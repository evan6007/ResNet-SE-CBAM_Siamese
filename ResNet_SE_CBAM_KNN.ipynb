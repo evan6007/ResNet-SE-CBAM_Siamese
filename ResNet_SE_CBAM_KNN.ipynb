{
  "nbformat": 4,
  "nbformat_minor": 0,
  "metadata": {
    "colab": {
      "provenance": []
    },
    "kernelspec": {
      "name": "python3",
      "display_name": "Python 3"
    },
    "language_info": {
      "name": "python"
    }
  },
  "cells": [
    {
      "cell_type": "markdown",
      "source": [
        "## 📦 1️⃣ Download & Extract Dataset and Model"
      ],
      "metadata": {
        "id": "OEFrTcM3dLLI"
      }
    },
    {
      "cell_type": "code",
      "execution_count": null,
      "metadata": {
        "colab": {
          "base_uri": "https://localhost:8080/"
        },
        "id": "pLN1dRJBWBNf",
        "outputId": "d1e125b2-3960-4a99-fcc7-f1f4c6aa6f2d"
      },
      "outputs": [
        {
          "output_type": "stream",
          "name": "stdout",
          "text": [
            "--2025-05-07 06:41:33--  https://huggingface.co/evan6007/ResNet_SE_CBAM_KNN/resolve/main/R_image.zip?download=true\n",
            "Resolving huggingface.co (huggingface.co)... 18.239.50.16, 18.239.50.49, 18.239.50.80, ...\n",
            "Connecting to huggingface.co (huggingface.co)|18.239.50.16|:443... connected.\n",
            "HTTP request sent, awaiting response... 302 Found\n",
            "Location: https://cdn-lfs-us-1.hf.co/repos/0d/a1/0da1f7500b5991cd7222686a95b74d5cc8e1afbd1f9a5e7a7c0f6b0baac4ba3e/b8377c2bea07237188c2c74e411c189abc11a9d091987477084bf517cbc3ead7?response-content-disposition=attachment%3B+filename*%3DUTF-8%27%27R_image.zip%3B+filename%3D%22R_image.zip%22%3B&response-content-type=application%2Fzip&Expires=1746603693&Policy=eyJTdGF0ZW1lbnQiOlt7IkNvbmRpdGlvbiI6eyJEYXRlTGVzc1RoYW4iOnsiQVdTOkVwb2NoVGltZSI6MTc0NjYwMzY5M319LCJSZXNvdXJjZSI6Imh0dHBzOi8vY2RuLWxmcy11cy0xLmhmLmNvL3JlcG9zLzBkL2ExLzBkYTFmNzUwMGI1OTkxY2Q3MjIyNjg2YTk1Yjc0ZDVjYzhlMWFmYmQxZjlhNWU3YTdjMGY2YjBiYWFjNGJhM2UvYjgzNzdjMmJlYTA3MjM3MTg4YzJjNzRlNDExYzE4OWFiYzExYTlkMDkxOTg3NDc3MDg0YmY1MTdjYmMzZWFkNz9yZXNwb25zZS1jb250ZW50LWRpc3Bvc2l0aW9uPSomcmVzcG9uc2UtY29udGVudC10eXBlPSoifV19&Signature=A3ENAooqpxjXCQESrhePk4ARqVm2YXIPPxxcNKglo6UixvwW%7E5Ox8DMfE2ZojnEYJOqN1CP8JkPSAJTdYn9g9NBlqLdQBDyl1kI%7EonK-FuSPgH4Z0y4DSaD8QQMya0gAkmPi-PJNXsnPIX586ZMT4kZtZQu0xKLTTpdR3J2uRwsGNbkeFY6e54yM-Ne2z9zKdQwyG4LkVLo-E9wE2jp-gp8aoNJyLxulAltWKrx9fkM37PwZOdpn68BvA9jxSc9zZwi%7ElkybMpnxpivqlxFIYWiHrdPHbY9uAFFZ914l2vUuUBQR2i4EcncxsKpS8%7ErLKFtXPCitcSuzGIGlxUUpPw__&Key-Pair-Id=K24J24Z295AEI9 [following]\n",
            "--2025-05-07 06:41:34--  https://cdn-lfs-us-1.hf.co/repos/0d/a1/0da1f7500b5991cd7222686a95b74d5cc8e1afbd1f9a5e7a7c0f6b0baac4ba3e/b8377c2bea07237188c2c74e411c189abc11a9d091987477084bf517cbc3ead7?response-content-disposition=attachment%3B+filename*%3DUTF-8%27%27R_image.zip%3B+filename%3D%22R_image.zip%22%3B&response-content-type=application%2Fzip&Expires=1746603693&Policy=eyJTdGF0ZW1lbnQiOlt7IkNvbmRpdGlvbiI6eyJEYXRlTGVzc1RoYW4iOnsiQVdTOkVwb2NoVGltZSI6MTc0NjYwMzY5M319LCJSZXNvdXJjZSI6Imh0dHBzOi8vY2RuLWxmcy11cy0xLmhmLmNvL3JlcG9zLzBkL2ExLzBkYTFmNzUwMGI1OTkxY2Q3MjIyNjg2YTk1Yjc0ZDVjYzhlMWFmYmQxZjlhNWU3YTdjMGY2YjBiYWFjNGJhM2UvYjgzNzdjMmJlYTA3MjM3MTg4YzJjNzRlNDExYzE4OWFiYzExYTlkMDkxOTg3NDc3MDg0YmY1MTdjYmMzZWFkNz9yZXNwb25zZS1jb250ZW50LWRpc3Bvc2l0aW9uPSomcmVzcG9uc2UtY29udGVudC10eXBlPSoifV19&Signature=A3ENAooqpxjXCQESrhePk4ARqVm2YXIPPxxcNKglo6UixvwW%7E5Ox8DMfE2ZojnEYJOqN1CP8JkPSAJTdYn9g9NBlqLdQBDyl1kI%7EonK-FuSPgH4Z0y4DSaD8QQMya0gAkmPi-PJNXsnPIX586ZMT4kZtZQu0xKLTTpdR3J2uRwsGNbkeFY6e54yM-Ne2z9zKdQwyG4LkVLo-E9wE2jp-gp8aoNJyLxulAltWKrx9fkM37PwZOdpn68BvA9jxSc9zZwi%7ElkybMpnxpivqlxFIYWiHrdPHbY9uAFFZ914l2vUuUBQR2i4EcncxsKpS8%7ErLKFtXPCitcSuzGIGlxUUpPw__&Key-Pair-Id=K24J24Z295AEI9\n",
            "Resolving cdn-lfs-us-1.hf.co (cdn-lfs-us-1.hf.co)... 18.239.18.80, 18.239.18.74, 18.239.18.87, ...\n",
            "Connecting to cdn-lfs-us-1.hf.co (cdn-lfs-us-1.hf.co)|18.239.18.80|:443... connected.\n",
            "HTTP request sent, awaiting response... 200 OK\n",
            "Length: 370277 (362K) [application/zip]\n",
            "Saving to: ‘R_image.zip’\n",
            "\n",
            "R_image.zip         100%[===================>] 361.60K  --.-KB/s    in 0.02s   \n",
            "\n",
            "2025-05-07 06:41:34 (21.9 MB/s) - ‘R_image.zip’ saved [370277/370277]\n",
            "\n",
            "--2025-05-07 06:41:34--  https://huggingface.co/evan6007/ResNet_SE_CBAM_KNN/resolve/main/resnet_se_cbam_40_20.pth?download=true\n",
            "Resolving huggingface.co (huggingface.co)... 18.239.50.49, 18.239.50.80, 18.239.50.16, ...\n",
            "Connecting to huggingface.co (huggingface.co)|18.239.50.49|:443... connected.\n",
            "HTTP request sent, awaiting response... 302 Found\n",
            "Location: https://cdn-lfs-us-1.hf.co/repos/0d/a1/0da1f7500b5991cd7222686a95b74d5cc8e1afbd1f9a5e7a7c0f6b0baac4ba3e/3cc2ffa5f44afbeff5ab0bbd77ee67012f68e63ad69d94fd09a99f3822f39683?response-content-disposition=attachment%3B+filename*%3DUTF-8%27%27resnet_se_cbam_40_20.pth%3B+filename%3D%22resnet_se_cbam_40_20.pth%22%3B&Expires=1746603694&Policy=eyJTdGF0ZW1lbnQiOlt7IkNvbmRpdGlvbiI6eyJEYXRlTGVzc1RoYW4iOnsiQVdTOkVwb2NoVGltZSI6MTc0NjYwMzY5NH19LCJSZXNvdXJjZSI6Imh0dHBzOi8vY2RuLWxmcy11cy0xLmhmLmNvL3JlcG9zLzBkL2ExLzBkYTFmNzUwMGI1OTkxY2Q3MjIyNjg2YTk1Yjc0ZDVjYzhlMWFmYmQxZjlhNWU3YTdjMGY2YjBiYWFjNGJhM2UvM2NjMmZmYTVmNDRhZmJlZmY1YWIwYmJkNzdlZTY3MDEyZjY4ZTYzYWQ2OWQ5NGZkMDlhOTlmMzgyMmYzOTY4Mz9yZXNwb25zZS1jb250ZW50LWRpc3Bvc2l0aW9uPSoifV19&Signature=DO1adNioq6Ne9EF8osPSZrsnAowU7J3SJcMJtDw2WEVF%7EsoL4YyPVd%7Ejp2GoIeQrEJpbGsw6l1Hcss%7EVNjJ1GBReR7bfDIDXlWcyN3nBDTd60d1TgPC6p7OdRgbEsoCMgd2mzTCjwiDV5LvuY-NXSsxcalmnF%7ErO5uh0XJoZuyZ91dv67ymSNc3ylRXHUg3ecbGduMiRbBUyrgMuE7ll-jHLSXu4oX286XmZmzUaP8nxndtn7UGO%7Ey6qijDGJX10T51UihsNEHVDNuJsrJhzTo%7EGnZRv2PqR-paKwVFW5uOtqkm4Y3bxBp-RprgedZrnLOAnUFFNdXpP4MBe7vIeOg__&Key-Pair-Id=K24J24Z295AEI9 [following]\n",
            "--2025-05-07 06:41:34--  https://cdn-lfs-us-1.hf.co/repos/0d/a1/0da1f7500b5991cd7222686a95b74d5cc8e1afbd1f9a5e7a7c0f6b0baac4ba3e/3cc2ffa5f44afbeff5ab0bbd77ee67012f68e63ad69d94fd09a99f3822f39683?response-content-disposition=attachment%3B+filename*%3DUTF-8%27%27resnet_se_cbam_40_20.pth%3B+filename%3D%22resnet_se_cbam_40_20.pth%22%3B&Expires=1746603694&Policy=eyJTdGF0ZW1lbnQiOlt7IkNvbmRpdGlvbiI6eyJEYXRlTGVzc1RoYW4iOnsiQVdTOkVwb2NoVGltZSI6MTc0NjYwMzY5NH19LCJSZXNvdXJjZSI6Imh0dHBzOi8vY2RuLWxmcy11cy0xLmhmLmNvL3JlcG9zLzBkL2ExLzBkYTFmNzUwMGI1OTkxY2Q3MjIyNjg2YTk1Yjc0ZDVjYzhlMWFmYmQxZjlhNWU3YTdjMGY2YjBiYWFjNGJhM2UvM2NjMmZmYTVmNDRhZmJlZmY1YWIwYmJkNzdlZTY3MDEyZjY4ZTYzYWQ2OWQ5NGZkMDlhOTlmMzgyMmYzOTY4Mz9yZXNwb25zZS1jb250ZW50LWRpc3Bvc2l0aW9uPSoifV19&Signature=DO1adNioq6Ne9EF8osPSZrsnAowU7J3SJcMJtDw2WEVF%7EsoL4YyPVd%7Ejp2GoIeQrEJpbGsw6l1Hcss%7EVNjJ1GBReR7bfDIDXlWcyN3nBDTd60d1TgPC6p7OdRgbEsoCMgd2mzTCjwiDV5LvuY-NXSsxcalmnF%7ErO5uh0XJoZuyZ91dv67ymSNc3ylRXHUg3ecbGduMiRbBUyrgMuE7ll-jHLSXu4oX286XmZmzUaP8nxndtn7UGO%7Ey6qijDGJX10T51UihsNEHVDNuJsrJhzTo%7EGnZRv2PqR-paKwVFW5uOtqkm4Y3bxBp-RprgedZrnLOAnUFFNdXpP4MBe7vIeOg__&Key-Pair-Id=K24J24Z295AEI9\n",
            "Resolving cdn-lfs-us-1.hf.co (cdn-lfs-us-1.hf.co)... 18.239.18.80, 18.239.18.74, 18.239.18.87, ...\n",
            "Connecting to cdn-lfs-us-1.hf.co (cdn-lfs-us-1.hf.co)|18.239.18.80|:443... connected.\n",
            "HTTP request sent, awaiting response... 200 OK\n",
            "Length: 340222 (332K) [binary/octet-stream]\n",
            "Saving to: ‘resnet_se_cbam_40_20.pth’\n",
            "\n",
            "resnet_se_cbam_40_2 100%[===================>] 332.25K  --.-KB/s    in 0.02s   \n",
            "\n",
            "2025-05-07 06:41:34 (16.6 MB/s) - ‘resnet_se_cbam_40_20.pth’ saved [340222/340222]\n",
            "\n",
            "Archive:  R_image.zip\n",
            "   creating: train_img/\n",
            "  inflating: train_img/R_ng(27).jpg  \n",
            "  inflating: train_img/R_ng(13).jpg  \n",
            "  inflating: train_img/R_ng(28).jpg  \n",
            "  inflating: train_img/R_pass(19).jpg  \n",
            "  inflating: train_img/R_pass(14).jpg  \n",
            "  inflating: train_img/R_pass(6).jpg  \n",
            "  inflating: train_img/R_ng(16).jpg  \n",
            "  inflating: train_img/R_ng(32).jpg  \n",
            "  inflating: train_img/R_ng(37).jpg  \n",
            "  inflating: train_img/R_ng(10).jpg  \n",
            "  inflating: train_img/R_pass(9).jpg  \n",
            "  inflating: train_img/R_ng(21).jpg  \n",
            "  inflating: train_img/R_ng(22).jpg  \n",
            "  inflating: train_img/R_ng(34).jpg  \n",
            "  inflating: train_img/R_pass(16).jpg  \n",
            "  inflating: train_img/R_ng(9).jpg   \n",
            "  inflating: train_img/R_ng(1).jpg   \n",
            "  inflating: train_img/R_ng(39).jpg  \n",
            "  inflating: train_img/R_ng(36).jpg  \n",
            "  inflating: train_img/R_pass(5).jpg  \n",
            "  inflating: train_img/R_ng(18).jpg  \n",
            "  inflating: train_img/R_pass(17).jpg  \n",
            "  inflating: train_img/R_ng(15).jpg  \n",
            "  inflating: train_img/R_pass(2).jpg  \n",
            "  inflating: train_img/R_ng(35).jpg  \n",
            "  inflating: train_img/R_pass(7).jpg  \n",
            "  inflating: train_img/R_ng(12).jpg  \n",
            "  inflating: train_img/R_ng(6).jpg   \n",
            "  inflating: train_img/R_ng(24).jpg  \n",
            "  inflating: train_img/R_pass(8).jpg  \n",
            "  inflating: train_img/R_ng(25).jpg  \n",
            "  inflating: train_img/R_ng(20).jpg  \n",
            "  inflating: train_img/R_ng(19).jpg  \n",
            "  inflating: train_img/R_ng(2).jpg   \n",
            "  inflating: train_img/R_ng(26).jpg  \n",
            "  inflating: train_img/R_pass(15).jpg  \n",
            "  inflating: train_img/R_ng(7).jpg   \n",
            "  inflating: train_img/R_pass(13).jpg  \n",
            "  inflating: train_img/R_ng(31).jpg  \n",
            "  inflating: train_img/R_ng(17).jpg  \n",
            "  inflating: train_img/R_ng(14).jpg  \n",
            "  inflating: train_img/R_ng(40).jpg  \n",
            "  inflating: train_img/R_pass(20).jpg  \n",
            "  inflating: train_img/R_pass(11).jpg  \n",
            "  inflating: train_img/R_pass(3).jpg  \n",
            "  inflating: train_img/R_ng(30).jpg  \n",
            "  inflating: train_img/R_pass(10).jpg  \n",
            "  inflating: train_img/R_pass(1).jpg  \n",
            "  inflating: train_img/R_pass(12).jpg  \n",
            "  inflating: train_img/R_pass(4).jpg  \n",
            "  inflating: train_img/R_ng(8).jpg   \n",
            "  inflating: train_img/R_ng(4).jpg   \n",
            "  inflating: train_img/R_ng(3).jpg   \n",
            "  inflating: train_img/R_ng(23).jpg  \n",
            "  inflating: train_img/R_ng(29).jpg  \n",
            "  inflating: train_img/R_ng(11).jpg  \n",
            "  inflating: train_img/R_pass(18).jpg  \n",
            "  inflating: train_img/R_ng(38).jpg  \n",
            "  inflating: train_img/R_ng(5).jpg   \n",
            "  inflating: train_img/R_ng(33).jpg  \n",
            "   creating: test_img/\n",
            "  inflating: test_img/test_R_ng(2).jpg  \n",
            "  inflating: test_img/test_R_pass(7).jpg  \n",
            "  inflating: test_img/test_R_ng(9).jpg  \n",
            "  inflating: test_img/test_R_pass(5).jpg  \n",
            "  inflating: test_img/test_R_ng(6).jpg  \n",
            "  inflating: test_img/test_R_pass(1).jpg  \n",
            "  inflating: test_img/test_R_ng(1).jpg  \n",
            "  inflating: test_img/test_R_pass(8).jpg  \n",
            "  inflating: test_img/test_R_ng(3).jpg  \n",
            "  inflating: test_img/test_R_ng(10).jpg  \n",
            "  inflating: test_img/test_R_pass(4).jpg  \n",
            "  inflating: test_img/test_R_ng(8).jpg  \n",
            "  inflating: test_img/test_R_pass(3).jpg  \n",
            "  inflating: test_img/test_R_pass(2).jpg  \n",
            "  inflating: test_img/test_R_pass(10).jpg  \n",
            "  inflating: test_img/test_R_ng(4).jpg  \n",
            "  inflating: test_img/test_R_pass(9).jpg  \n",
            "  inflating: test_img/test_R_pass(6).jpg  \n",
            "  inflating: test_img/test_R_ng(7).jpg  \n",
            "  inflating: test_img/test_R_ng(5).jpg  \n",
            "   creating: val_img/\n",
            "  inflating: val_img/val_R_ng(2).jpg  \n",
            "  inflating: val_img/val_R_ng(3).jpg  \n",
            "  inflating: val_img/val_R_pass(2).jpg  \n",
            "  inflating: val_img/val_R_ng(5).jpg  \n",
            "  inflating: val_img/val_R_pass(4).jpg  \n",
            "  inflating: val_img/val_R_pass(5).jpg  \n",
            "  inflating: val_img/val_R_ng(1).jpg  \n",
            "  inflating: val_img/val_R_ng(4).jpg  \n",
            "  inflating: val_img/val_R_pass(3).jpg  \n",
            "  inflating: val_img/val_R_pass(1).jpg  \n"
          ]
        }
      ],
      "source": [
        "import os\n",
        "\n",
        "download_image_url = \"https://huggingface.co/evan6007/ResNet_SE_CBAM_KNN/resolve/main/R_image.zip?download=true\"\n",
        "download_weight_url = \"https://huggingface.co/evan6007/ResNet_SE_CBAM_KNN/resolve/main/resnet_se_cbam_40_20.pth?download=true\"\n",
        "\n",
        "!wget $download_image_url -O R_image.zip\n",
        "!wget $download_weight_url -O resnet_se_cbam_40_20.pth\n",
        "!unzip R_image.zip"
      ]
    },
    {
      "cell_type": "markdown",
      "source": [
        "## 🛠️ 2️⃣ Import Libraries"
      ],
      "metadata": {
        "id": "gyo99ZbydW2J"
      }
    },
    {
      "cell_type": "code",
      "source": [
        "import torch, torch.nn as nn\n",
        "import torchvision.transforms as transforms\n",
        "from PIL import Image\n",
        "import numpy as np\n",
        "from sklearn.decomposition import PCA\n",
        "import matplotlib.pyplot as plt\n",
        "from sklearn.preprocessing import StandardScaler\n",
        "from sklearn.neighbors import KNeighborsClassifier\n",
        "from sklearn.model_selection import GridSearchCV\n",
        "\n",
        "device = torch.device(\"cuda\" if torch.cuda.is_available() else \"cpu\")\n",
        "INPUT_SHAPE = (128, 180)\n",
        "model_path = '/content/resnet_se_cbam_40_20.pth'\n",
        "train_folder, test_folder, val_folder = '/content/train_img', '/content/test_img', '/content/val_img'\n"
      ],
      "metadata": {
        "id": "H_ZWnbHLWQbr"
      },
      "execution_count": null,
      "outputs": []
    },
    {
      "cell_type": "markdown",
      "source": [
        "## 🏗️ 3️⃣ Define Model (Siamese + SE + CBAM)"
      ],
      "metadata": {
        "id": "JtjA_11-dahS"
      }
    },
    {
      "cell_type": "code",
      "source": [
        "class MainBlock(nn.Module):\n",
        "    def __init__(self, in_channels , out_channels):\n",
        "        super(MainBlock , self).__init__()\n",
        "        self.main = nn.Sequential(\n",
        "            nn.Conv2d(in_channels,out_channels,kernel_size=(3,3),stride=1),\n",
        "            nn.MaxPool2d(kernel_size=(2,2),stride=2),\n",
        "            nn.ReLU(),\n",
        "            nn.BatchNorm2d(out_channels)\n",
        "        )\n",
        "\n",
        "    def forward(self,x):\n",
        "        x = self.main(x)\n",
        "        return x\n",
        "\n",
        "class ResidualBlock(nn.Module):\n",
        "    def __init__(self, in_channels , out_channels ,downsample=None):\n",
        "        super(ResidualBlock , self).__init__()\n",
        "        self.resnet = nn.Sequential(\n",
        "            nn.Conv2d(in_channels,out_channels,stride=1,kernel_size=(3,3),bias=False,padding=1),\n",
        "            nn.BatchNorm2d(out_channels),\n",
        "            nn.ReLU(inplace=True),\n",
        "            nn.Conv2d(out_channels,out_channels,stride=1,kernel_size=(3,3),bias=False,padding=1),\n",
        "            nn.BatchNorm2d(out_channels),\n",
        "        )\n",
        "\n",
        "        self.relu = nn.ReLU()\n",
        "\n",
        "        self.downsample = downsample\n",
        "\n",
        "    def forward(self,x):\n",
        "        identity = x\n",
        "        x = self.resnet(x)\n",
        "\n",
        "        if self.downsample is not None:\n",
        "            identity = self.downsample(x)\n",
        "\n",
        "        x += identity\n",
        "        x = self.relu(x)\n",
        "        return x\n",
        "\n",
        "class SEBlock(nn.Module):\n",
        "    def __init__(self, channels, reduction=4):\n",
        "        super(SEBlock, self).__init__()\n",
        "        self.global_avg_pool = nn.AdaptiveAvgPool2d(1)\n",
        "        self.fc1 = nn.Linear(channels, channels // reduction, bias=False)\n",
        "        self.relu = nn.ReLU(inplace=True)\n",
        "        self.fc2 = nn.Linear(channels // reduction, channels, bias=False)\n",
        "        self.sigmoid = nn.Sigmoid()\n",
        "\n",
        "    def forward(self, x):\n",
        "        b, c, _, _ = x.size()\n",
        "        y = self.global_avg_pool(x).view(b, c)\n",
        "        y = self.fc1(y)\n",
        "        y = self.relu(y)\n",
        "        y = self.fc2(y)\n",
        "        y = self.sigmoid(y).view(b, c, 1, 1)\n",
        "        return x * y\n",
        "\n",
        "class ChannelAttention(nn.Module):\n",
        "    def __init__(self, channels, reduction=4):\n",
        "        super(ChannelAttention, self).__init__()\n",
        "        self.global_avg_pool = nn.AdaptiveAvgPool2d(1)\n",
        "        self.global_max_pool = nn.AdaptiveMaxPool2d(1)\n",
        "        self.fc1 = nn.Conv2d(channels, channels // reduction, kernel_size=1, bias=False)\n",
        "        self.fc2 = nn.Conv2d(channels // reduction, channels, kernel_size=1, bias=False)\n",
        "        self.relu = nn.ReLU(inplace=True)\n",
        "        self.sigmoid = nn.Sigmoid()\n",
        "    def forward(self, x):\n",
        "        avg_out = self.fc2(self.relu(self.fc1(self.global_avg_pool(x))))\n",
        "        max_out = self.fc2(self.relu(self.fc1(self.global_max_pool(x))))\n",
        "        return self.sigmoid(avg_out + max_out)\n",
        "\n",
        "class SpatialAttention(nn.Module):\n",
        "    def __init__(self, kernel_size=7):\n",
        "        super(SpatialAttention, self).__init__()\n",
        "        self.conv = nn.Conv2d(2, 1, kernel_size=kernel_size, padding=(kernel_size // 2), bias=False)\n",
        "        self.sigmoid = nn.Sigmoid()\n",
        "\n",
        "    def forward(self, x):\n",
        "        avg_out = torch.mean(x, dim=1, keepdim=True)\n",
        "        max_out, _ = torch.max(x, dim=1, keepdim=True)\n",
        "        x = torch.cat([avg_out, max_out], dim=1)\n",
        "        x = self.conv(x)\n",
        "        return self.sigmoid(x)\n",
        "\n",
        "class CBAM(nn.Module):\n",
        "    def __init__(self, channels, reduction=4, kernel_size=7):\n",
        "        super(CBAM, self).__init__()\n",
        "        self.channel_attention = ChannelAttention(channels, reduction)\n",
        "        self.spatial_attention = SpatialAttention(kernel_size)\n",
        "\n",
        "    def forward(self, x):\n",
        "\n",
        "        out = x*self.channel_attention(x)\n",
        "        out = self.spatial_attention(out)*out\n",
        "        return out\n",
        "\n",
        "class SiameseNetwork3(nn.Module):\n",
        "    def __init__(self):\n",
        "        super(SiameseNetwork3, self).__init__()\n",
        "\n",
        "        self.SE = nn.Sequential(\n",
        "            SEBlock(8),\n",
        "\n",
        "        )\n",
        "        self.CBAM = nn.Sequential(\n",
        "            CBAM(8),\n",
        "\n",
        "        )\n",
        "\n",
        "        self.main = nn.Sequential(\n",
        "            MainBlock(3,8)\n",
        "        )\n",
        "        self.Residual = nn.Sequential(\n",
        "            MainBlock(16,32),\n",
        "            ResidualBlock(32,32),\n",
        "            MainBlock(32,64),\n",
        "            MainBlock(64,64),\n",
        "        )\n",
        "\n",
        "        self.linear = nn.Sequential(\n",
        "            nn.AdaptiveAvgPool2d(1),\n",
        "            nn.Flatten(),\n",
        "            nn.Linear(64,16)\n",
        "        )\n",
        "    def forward_once(self, x):\n",
        "        x = self.main(x)\n",
        "        se_x = self.SE(x)\n",
        "        cbam_x = self.CBAM(x)\n",
        "        x = torch.cat((se_x,cbam_x),dim=1)\n",
        "        x = self.Residual(x)\n",
        "        x = self.linear(x)\n",
        "\n",
        "        return x\n",
        "\n",
        "    def forward(self, input1, input2 , input3):\n",
        "\n",
        "        output1 = self.forward_once(input1)\n",
        "        output2 = self.forward_once(input2)\n",
        "        output3 = self.forward_once(input3)\n",
        "        return output1 , output2 , output3"
      ],
      "metadata": {
        "id": "PQKnyOmddcPe"
      },
      "execution_count": null,
      "outputs": []
    },
    {
      "cell_type": "markdown",
      "source": [
        "## 📥 4️⃣ Load Model"
      ],
      "metadata": {
        "id": "VEQJHhB0dfik"
      }
    },
    {
      "cell_type": "code",
      "source": [
        "model = SiameseNetwork3().to(device)\n",
        "model.load_state_dict(torch.load(model_path, map_location=device))\n",
        "model.eval()"
      ],
      "metadata": {
        "colab": {
          "base_uri": "https://localhost:8080/"
        },
        "id": "PN2vBKPydj0I",
        "outputId": "fe20ab6e-70c3-4db9-c7ca-dccb374180de"
      },
      "execution_count": null,
      "outputs": [
        {
          "output_type": "execute_result",
          "data": {
            "text/plain": [
              "SiameseNetwork3(\n",
              "  (SE): Sequential(\n",
              "    (0): SEBlock(\n",
              "      (global_avg_pool): AdaptiveAvgPool2d(output_size=1)\n",
              "      (fc1): Linear(in_features=8, out_features=2, bias=False)\n",
              "      (relu): ReLU(inplace=True)\n",
              "      (fc2): Linear(in_features=2, out_features=8, bias=False)\n",
              "      (sigmoid): Sigmoid()\n",
              "    )\n",
              "  )\n",
              "  (CBAM): Sequential(\n",
              "    (0): CBAM(\n",
              "      (channel_attention): ChannelAttention(\n",
              "        (global_avg_pool): AdaptiveAvgPool2d(output_size=1)\n",
              "        (global_max_pool): AdaptiveMaxPool2d(output_size=1)\n",
              "        (fc1): Conv2d(8, 2, kernel_size=(1, 1), stride=(1, 1), bias=False)\n",
              "        (fc2): Conv2d(2, 8, kernel_size=(1, 1), stride=(1, 1), bias=False)\n",
              "        (relu): ReLU(inplace=True)\n",
              "        (sigmoid): Sigmoid()\n",
              "      )\n",
              "      (spatial_attention): SpatialAttention(\n",
              "        (conv): Conv2d(2, 1, kernel_size=(7, 7), stride=(1, 1), padding=(3, 3), bias=False)\n",
              "        (sigmoid): Sigmoid()\n",
              "      )\n",
              "    )\n",
              "  )\n",
              "  (main): Sequential(\n",
              "    (0): MainBlock(\n",
              "      (main): Sequential(\n",
              "        (0): Conv2d(3, 8, kernel_size=(3, 3), stride=(1, 1))\n",
              "        (1): MaxPool2d(kernel_size=(2, 2), stride=2, padding=0, dilation=1, ceil_mode=False)\n",
              "        (2): ReLU()\n",
              "        (3): BatchNorm2d(8, eps=1e-05, momentum=0.1, affine=True, track_running_stats=True)\n",
              "      )\n",
              "    )\n",
              "  )\n",
              "  (Residual): Sequential(\n",
              "    (0): MainBlock(\n",
              "      (main): Sequential(\n",
              "        (0): Conv2d(16, 32, kernel_size=(3, 3), stride=(1, 1))\n",
              "        (1): MaxPool2d(kernel_size=(2, 2), stride=2, padding=0, dilation=1, ceil_mode=False)\n",
              "        (2): ReLU()\n",
              "        (3): BatchNorm2d(32, eps=1e-05, momentum=0.1, affine=True, track_running_stats=True)\n",
              "      )\n",
              "    )\n",
              "    (1): ResidualBlock(\n",
              "      (resnet): Sequential(\n",
              "        (0): Conv2d(32, 32, kernel_size=(3, 3), stride=(1, 1), padding=(1, 1), bias=False)\n",
              "        (1): BatchNorm2d(32, eps=1e-05, momentum=0.1, affine=True, track_running_stats=True)\n",
              "        (2): ReLU(inplace=True)\n",
              "        (3): Conv2d(32, 32, kernel_size=(3, 3), stride=(1, 1), padding=(1, 1), bias=False)\n",
              "        (4): BatchNorm2d(32, eps=1e-05, momentum=0.1, affine=True, track_running_stats=True)\n",
              "      )\n",
              "      (relu): ReLU()\n",
              "    )\n",
              "    (2): MainBlock(\n",
              "      (main): Sequential(\n",
              "        (0): Conv2d(32, 64, kernel_size=(3, 3), stride=(1, 1))\n",
              "        (1): MaxPool2d(kernel_size=(2, 2), stride=2, padding=0, dilation=1, ceil_mode=False)\n",
              "        (2): ReLU()\n",
              "        (3): BatchNorm2d(64, eps=1e-05, momentum=0.1, affine=True, track_running_stats=True)\n",
              "      )\n",
              "    )\n",
              "    (3): MainBlock(\n",
              "      (main): Sequential(\n",
              "        (0): Conv2d(64, 64, kernel_size=(3, 3), stride=(1, 1))\n",
              "        (1): MaxPool2d(kernel_size=(2, 2), stride=2, padding=0, dilation=1, ceil_mode=False)\n",
              "        (2): ReLU()\n",
              "        (3): BatchNorm2d(64, eps=1e-05, momentum=0.1, affine=True, track_running_stats=True)\n",
              "      )\n",
              "    )\n",
              "  )\n",
              "  (linear): Sequential(\n",
              "    (0): AdaptiveAvgPool2d(output_size=1)\n",
              "    (1): Flatten(start_dim=1, end_dim=-1)\n",
              "    (2): Linear(in_features=64, out_features=16, bias=True)\n",
              "  )\n",
              ")"
            ]
          },
          "metadata": {},
          "execution_count": 4
        }
      ]
    },
    {
      "cell_type": "markdown",
      "source": [
        "## 🖼️ 5️⃣ Image Loader"
      ],
      "metadata": {
        "id": "vMHJyxGqdsoR"
      }
    },
    {
      "cell_type": "code",
      "source": [
        "transform = transforms.Compose([transforms.Resize(INPUT_SHAPE), transforms.ToTensor()])\n",
        "def read_images(folder):\n",
        "    images, filenames, labels = [], [], []\n",
        "    for fn in os.listdir(folder):\n",
        "        if fn.lower().endswith(('.png','.jpg','.jpeg')):\n",
        "            img = transform(Image.open(os.path.join(folder,fn)))\n",
        "            label = 0 if 'pass' in fn else 1 if 'ng' in fn else 0\n",
        "            images.append(img.numpy()); filenames.append(fn); labels.append(label)\n",
        "    return np.array(images), np.array(filenames), np.array(labels)\n",
        "\n",
        "img_train, fname_train, lbl_train = read_images(train_folder)\n",
        "img_test, fname_test, lbl_test = read_images(test_folder)\n",
        "\n",
        "t_train = torch.tensor(img_train, dtype=torch.float32).to(device)\n",
        "t_test = torch.tensor(img_test, dtype=torch.float32).to(device)"
      ],
      "metadata": {
        "id": "mExwSxGEcM6e"
      },
      "execution_count": null,
      "outputs": []
    },
    {
      "cell_type": "markdown",
      "source": [
        "## 🧬 6️⃣ Get Features"
      ],
      "metadata": {
        "id": "33G8r6pPdwSO"
      }
    },
    {
      "cell_type": "code",
      "source": [
        "with torch.no_grad():\n",
        "    feat_train, _, _ = model(t_train, t_train, t_train)\n",
        "    feat_test, _, _ = model(t_test, t_test, t_test)"
      ],
      "metadata": {
        "id": "lDXvMMCLcXqc"
      },
      "execution_count": null,
      "outputs": []
    },
    {
      "cell_type": "markdown",
      "source": [
        "## 🔬 7️⃣ PCA"
      ],
      "metadata": {
        "id": "bvS_7cNdd6MO"
      }
    },
    {
      "cell_type": "code",
      "source": [
        "pca = PCA(n_components=3)\n",
        "X_train_pca, X_test_pca = pca.fit_transform(feat_train.cpu().numpy()), pca.transform(feat_test.cpu().numpy())"
      ],
      "metadata": {
        "id": "0IJEKCuBd8Gn"
      },
      "execution_count": null,
      "outputs": []
    },
    {
      "cell_type": "markdown",
      "source": [
        "## 🏃 8️⃣ KNN Training"
      ],
      "metadata": {
        "id": "x8o2mXH7d-Cn"
      }
    },
    {
      "cell_type": "code",
      "source": [
        "scaler = StandardScaler()\n",
        "X_train_scaled, X_test_scaled = scaler.fit_transform(X_train_pca), scaler.transform(X_test_pca)\n",
        "param_grid = {'n_neighbors':[3,4,5], 'weights':['uniform','distance']}\n",
        "knn = GridSearchCV(KNeighborsClassifier(), param_grid, cv=3, scoring='accuracy')\n",
        "knn.fit(X_train_scaled, lbl_train)\n",
        "preds = knn.predict(X_test_scaled)\n",
        "acc = np.mean(preds == lbl_test)\n",
        "print(f\"KNN Test Accuracy: {acc:.4f}\")"
      ],
      "metadata": {
        "colab": {
          "base_uri": "https://localhost:8080/"
        },
        "id": "dLJXLCyScx5s",
        "outputId": "d64c3b8c-f33d-43b7-b216-df3ff7c019bc"
      },
      "execution_count": null,
      "outputs": [
        {
          "output_type": "stream",
          "name": "stdout",
          "text": [
            "KNN Test Accuracy: 0.9000\n"
          ]
        }
      ]
    },
    {
      "cell_type": "markdown",
      "source": [
        "## 🎨 9️⃣ Visualization"
      ],
      "metadata": {
        "id": "HWlB8C2reB9K"
      }
    },
    {
      "cell_type": "code",
      "source": [
        "print(f\"KNN Test Accuracy: {acc:.4f}\")\n",
        "colors = ['red' if l==0 else 'green' for l in lbl_test]\n",
        "markers = ['o' if p==0 else 'x' for p in preds]\n",
        "plt.figure(figsize=(8,5))\n",
        "for i in range(len(X_test_pca)):\n",
        "  edgecolor = 'black' if markers[i] != 'x' else None\n",
        "  plt.scatter(X_test_pca[i,0], X_test_pca[i,1], color=colors[i], marker=markers[i], s=100, edgecolors=edgecolor)\n",
        "\n",
        "plt.xlabel('PC1'); plt.ylabel('PC2')\n",
        "plt.title('Test Data: color=True label, shape=Predicted label')\n",
        "legend = [\n",
        "    plt.Line2D([0], [0], marker='o', color='w', label='predict: pass (o)', markerfacecolor='gray', markersize=10, markeredgecolor='black'),\n",
        "    plt.Line2D([0], [0], marker='x', color='w', label='predict: ng (x)', markerfacecolor='gray', markersize=10, markeredgecolor='black'),\n",
        "    plt.Line2D([0], [0], marker='s', color='red', label='true: pass (red)'),\n",
        "    plt.Line2D([0], [0], marker='s', color='green', label='true: ng (green)')]\n",
        "plt.legend(handles=legend)\n",
        "plt.show()"
      ],
      "metadata": {
        "colab": {
          "base_uri": "https://localhost:8080/",
          "height": 504
        },
        "id": "4Afz8O77eFd1",
        "outputId": "2e160e6d-bd2c-4a7f-a84f-c274218bbff6"
      },
      "execution_count": null,
      "outputs": [
        {
          "output_type": "stream",
          "name": "stdout",
          "text": [
            "KNN Test Accuracy: 0.9000\n"
          ]
        },
        {
          "output_type": "display_data",
          "data": {
            "text/plain": [
              "<Figure size 800x500 with 1 Axes>"
            ],
            "image/png": "[encoded data removed]"
          },
          "metadata": {}
        }
      ]
    },
    {
      "cell_type": "markdown",
      "source": [],
      "metadata": {
        "id": "Zrx-4YeeWD1z"
      }
    }
  ]
}